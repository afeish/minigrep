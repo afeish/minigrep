{
 "cells": [
  {
   "cell_type": "code",
   "execution_count": 37,
   "metadata": {},
   "outputs": [],
   "source": [
    "from peewee import *\n",
    "from playhouse.postgres_ext import *\n",
    "import datetime\n",
    "\n",
    "db = PostgresqlDatabase('test', user='postgres', password='password', host='localhost', port=5432)\n"
   ]
  },
  {
   "cell_type": "code",
   "execution_count": 38,
   "metadata": {},
   "outputs": [],
   "source": [
    "import logging\n",
    "logger = logging.getLogger('peewee')\n",
    "logger.addHandler(logging.StreamHandler())\n",
    "logger.setLevel(logging.DEBUG)"
   ]
  },
  {
   "cell_type": "code",
   "execution_count": 39,
   "metadata": {},
   "outputs": [],
   "source": [
    "class BaseModel(Model):\n",
    "    class Meta:\n",
    "        database = db\n",
    "\n",
    "class User(BaseModel):\n",
    "    username = TextField()\n",
    "\n",
    "class Tweet(BaseModel):\n",
    "    content = TextField()\n",
    "    code = ArrayField(CharField, null=True)\n",
    "    cat = CharField(null=True)\n",
    "    timestamp = DateTimeField(default=datetime.datetime.now)\n",
    "    user = ForeignKeyField(User, backref='tweets')\n",
    "\n",
    "class Favorite(BaseModel):\n",
    "    user = ForeignKeyField(User, backref='favorites')\n",
    "    tweet = ForeignKeyField(Tweet, backref='favorites')"
   ]
  },
  {
   "cell_type": "code",
   "execution_count": 72,
   "metadata": {},
   "outputs": [
    {
     "name": "stderr",
     "output_type": "stream",
     "text": [
      "('DROP TABLE IF EXISTS \"favorite\"', [])\n",
      "('DROP TABLE IF EXISTS \"favorite\"', [])\n",
      "('DROP TABLE IF EXISTS \"tweet\"', [])\n",
      "('DROP TABLE IF EXISTS \"tweet\"', [])\n",
      "('DROP TABLE IF EXISTS \"user\"', [])\n",
      "('DROP TABLE IF EXISTS \"user\"', [])\n",
      "('drop AGGREGATE if EXISTS array_concat_agg(anycompatiblearray);', None)\n",
      "('drop AGGREGATE if EXISTS array_concat_agg(anycompatiblearray);', None)\n"
     ]
    },
    {
     "data": {
      "text/plain": [
       "<cursor object at 0x000001D491BC7840; closed: 0>"
      ]
     },
     "execution_count": 72,
     "metadata": {},
     "output_type": "execute_result"
    }
   ],
   "source": [
    "db.drop_tables([User, Tweet, Favorite])\n",
    "db.execute_sql('drop AGGREGATE if EXISTS array_concat_agg(anycompatiblearray);')\n"
   ]
  },
  {
   "cell_type": "code",
   "execution_count": 73,
   "metadata": {},
   "outputs": [],
   "source": [
    "def populate_test_data():\n",
    "    db.create_tables([User, Tweet, Favorite])\n",
    "    db.execute_sql('CREATE or replace AGGREGATE array_concat_agg(anycompatiblearray) (   SFUNC = array_cat,   STYPE = anycompatiblearray );')\n",
    "    data = (\n",
    "        ('huey', ('meow', 'hiss', 'purr'), ('1001','1002'), 'cat1'),\n",
    "        ('mickey', ('woof', 'whine'), ('1003'), 'cat2'),\n",
    "        ('zaizee', ('hello', 'greet'), ('1005','1006', '1007'), 'cat1')\n",
    "    )\n",
    "    for username, tweets, code, cat in data:\n",
    "        user = User.create(username=username)\n",
    "        for tweet in tweets:\n",
    "            print(f\"Tweet = {tweet}, code = {code}\")\n",
    "            Tweet.create(user=user, content=tweet, code=code, cat=cat)\n",
    "\n",
    "    # Populate a few favorites for our users, such that:\n",
    "    favorite_data = (\n",
    "        ('huey', ['whine']),\n",
    "        ('mickey', ['purr']),\n",
    "        ('zaizee', ['meow', 'purr']))\n",
    "    for username, favorites in favorite_data:\n",
    "        user = User.get(User.username == username)\n",
    "        for content in favorites:\n",
    "            tweet = Tweet.get(Tweet.content == content)\n",
    "            Favorite.create(user=user, tweet=tweet)"
   ]
  },
  {
   "cell_type": "code",
   "execution_count": 74,
   "metadata": {},
   "outputs": [
    {
     "name": "stderr",
     "output_type": "stream",
     "text": [
      "('CREATE TABLE IF NOT EXISTS \"user\" (\"id\" SERIAL NOT NULL PRIMARY KEY, \"username\" TEXT NOT NULL)', [])\n",
      "('CREATE TABLE IF NOT EXISTS \"user\" (\"id\" SERIAL NOT NULL PRIMARY KEY, \"username\" TEXT NOT NULL)', [])\n",
      "('CREATE TABLE IF NOT EXISTS \"tweet\" (\"id\" SERIAL NOT NULL PRIMARY KEY, \"content\" TEXT NOT NULL, \"code\" VARCHAR(255)[], \"cat\" VARCHAR(255), \"timestamp\" TIMESTAMP NOT NULL, \"user_id\" INTEGER NOT NULL, FOREIGN KEY (\"user_id\") REFERENCES \"user\" (\"id\"))', [])\n",
      "('CREATE TABLE IF NOT EXISTS \"tweet\" (\"id\" SERIAL NOT NULL PRIMARY KEY, \"content\" TEXT NOT NULL, \"code\" VARCHAR(255)[], \"cat\" VARCHAR(255), \"timestamp\" TIMESTAMP NOT NULL, \"user_id\" INTEGER NOT NULL, FOREIGN KEY (\"user_id\") REFERENCES \"user\" (\"id\"))', [])\n",
      "('CREATE INDEX IF NOT EXISTS \"tweet_code\" ON \"tweet\" USING GIN (\"code\")', [])\n",
      "('CREATE INDEX IF NOT EXISTS \"tweet_code\" ON \"tweet\" USING GIN (\"code\")', [])\n",
      "('CREATE INDEX IF NOT EXISTS \"tweet_user_id\" ON \"tweet\" (\"user_id\")', [])\n",
      "('CREATE INDEX IF NOT EXISTS \"tweet_user_id\" ON \"tweet\" (\"user_id\")', [])\n",
      "('CREATE TABLE IF NOT EXISTS \"favorite\" (\"id\" SERIAL NOT NULL PRIMARY KEY, \"user_id\" INTEGER NOT NULL, \"tweet_id\" INTEGER NOT NULL, FOREIGN KEY (\"user_id\") REFERENCES \"user\" (\"id\"), FOREIGN KEY (\"tweet_id\") REFERENCES \"tweet\" (\"id\"))', [])\n",
      "('CREATE TABLE IF NOT EXISTS \"favorite\" (\"id\" SERIAL NOT NULL PRIMARY KEY, \"user_id\" INTEGER NOT NULL, \"tweet_id\" INTEGER NOT NULL, FOREIGN KEY (\"user_id\") REFERENCES \"user\" (\"id\"), FOREIGN KEY (\"tweet_id\") REFERENCES \"tweet\" (\"id\"))', [])\n",
      "('CREATE INDEX IF NOT EXISTS \"favorite_user_id\" ON \"favorite\" (\"user_id\")', [])\n",
      "('CREATE INDEX IF NOT EXISTS \"favorite_user_id\" ON \"favorite\" (\"user_id\")', [])\n",
      "('CREATE INDEX IF NOT EXISTS \"favorite_tweet_id\" ON \"favorite\" (\"tweet_id\")', [])\n",
      "('CREATE INDEX IF NOT EXISTS \"favorite_tweet_id\" ON \"favorite\" (\"tweet_id\")', [])\n",
      "('CREATE or replace AGGREGATE array_concat_agg(anycompatiblearray) (   SFUNC = array_cat,   STYPE = anycompatiblearray );', None)\n",
      "('CREATE or replace AGGREGATE array_concat_agg(anycompatiblearray) (   SFUNC = array_cat,   STYPE = anycompatiblearray );', None)\n",
      "('INSERT INTO \"user\" (\"username\") VALUES (%s) RETURNING \"user\".\"id\"', ['huey'])\n",
      "('INSERT INTO \"user\" (\"username\") VALUES (%s) RETURNING \"user\".\"id\"', ['huey'])\n",
      "('INSERT INTO \"tweet\" (\"content\", \"code\", \"cat\", \"timestamp\", \"user_id\") VALUES (%s, %s, %s, %s, %s) RETURNING \"tweet\".\"id\"', ['meow', ['1001', '1002'], 'cat1', datetime.datetime(2024, 7, 6, 0, 7, 39, 746334), 1])\n",
      "('INSERT INTO \"tweet\" (\"content\", \"code\", \"cat\", \"timestamp\", \"user_id\") VALUES (%s, %s, %s, %s, %s) RETURNING \"tweet\".\"id\"', ['meow', ['1001', '1002'], 'cat1', datetime.datetime(2024, 7, 6, 0, 7, 39, 746334), 1])\n",
      "('INSERT INTO \"tweet\" (\"content\", \"code\", \"cat\", \"timestamp\", \"user_id\") VALUES (%s, %s, %s, %s, %s) RETURNING \"tweet\".\"id\"', ['hiss', ['1001', '1002'], 'cat1', datetime.datetime(2024, 7, 6, 0, 7, 39, 751369), 1])\n",
      "('INSERT INTO \"tweet\" (\"content\", \"code\", \"cat\", \"timestamp\", \"user_id\") VALUES (%s, %s, %s, %s, %s) RETURNING \"tweet\".\"id\"', ['hiss', ['1001', '1002'], 'cat1', datetime.datetime(2024, 7, 6, 0, 7, 39, 751369), 1])\n",
      "('INSERT INTO \"tweet\" (\"content\", \"code\", \"cat\", \"timestamp\", \"user_id\") VALUES (%s, %s, %s, %s, %s) RETURNING \"tweet\".\"id\"', ['purr', ['1001', '1002'], 'cat1', datetime.datetime(2024, 7, 6, 0, 7, 39, 753382), 1])\n",
      "('INSERT INTO \"tweet\" (\"content\", \"code\", \"cat\", \"timestamp\", \"user_id\") VALUES (%s, %s, %s, %s, %s) RETURNING \"tweet\".\"id\"', ['purr', ['1001', '1002'], 'cat1', datetime.datetime(2024, 7, 6, 0, 7, 39, 753382), 1])\n",
      "('INSERT INTO \"user\" (\"username\") VALUES (%s) RETURNING \"user\".\"id\"', ['mickey'])\n",
      "('INSERT INTO \"user\" (\"username\") VALUES (%s) RETURNING \"user\".\"id\"', ['mickey'])\n",
      "('INSERT INTO \"tweet\" (\"content\", \"code\", \"cat\", \"timestamp\", \"user_id\") VALUES (%s, %s, %s, %s, %s) RETURNING \"tweet\".\"id\"', ['woof', ['1', '0', '0', '3'], 'cat2', datetime.datetime(2024, 7, 6, 0, 7, 39, 759383), 2])\n",
      "('INSERT INTO \"tweet\" (\"content\", \"code\", \"cat\", \"timestamp\", \"user_id\") VALUES (%s, %s, %s, %s, %s) RETURNING \"tweet\".\"id\"', ['woof', ['1', '0', '0', '3'], 'cat2', datetime.datetime(2024, 7, 6, 0, 7, 39, 759383), 2])\n",
      "('INSERT INTO \"tweet\" (\"content\", \"code\", \"cat\", \"timestamp\", \"user_id\") VALUES (%s, %s, %s, %s, %s) RETURNING \"tweet\".\"id\"', ['whine', ['1', '0', '0', '3'], 'cat2', datetime.datetime(2024, 7, 6, 0, 7, 39, 764383), 2])\n",
      "('INSERT INTO \"tweet\" (\"content\", \"code\", \"cat\", \"timestamp\", \"user_id\") VALUES (%s, %s, %s, %s, %s) RETURNING \"tweet\".\"id\"', ['whine', ['1', '0', '0', '3'], 'cat2', datetime.datetime(2024, 7, 6, 0, 7, 39, 764383), 2])\n",
      "('INSERT INTO \"user\" (\"username\") VALUES (%s) RETURNING \"user\".\"id\"', ['zaizee'])\n",
      "('INSERT INTO \"user\" (\"username\") VALUES (%s) RETURNING \"user\".\"id\"', ['zaizee'])\n",
      "('INSERT INTO \"tweet\" (\"content\", \"code\", \"cat\", \"timestamp\", \"user_id\") VALUES (%s, %s, %s, %s, %s) RETURNING \"tweet\".\"id\"', ['hello', ['1005', '1006', '1007'], 'cat1', datetime.datetime(2024, 7, 6, 0, 7, 39, 769382), 3])\n",
      "('INSERT INTO \"tweet\" (\"content\", \"code\", \"cat\", \"timestamp\", \"user_id\") VALUES (%s, %s, %s, %s, %s) RETURNING \"tweet\".\"id\"', ['hello', ['1005', '1006', '1007'], 'cat1', datetime.datetime(2024, 7, 6, 0, 7, 39, 769382), 3])\n",
      "('INSERT INTO \"tweet\" (\"content\", \"code\", \"cat\", \"timestamp\", \"user_id\") VALUES (%s, %s, %s, %s, %s) RETURNING \"tweet\".\"id\"', ['greet', ['1005', '1006', '1007'], 'cat1', datetime.datetime(2024, 7, 6, 0, 7, 39, 771392), 3])\n",
      "('INSERT INTO \"tweet\" (\"content\", \"code\", \"cat\", \"timestamp\", \"user_id\") VALUES (%s, %s, %s, %s, %s) RETURNING \"tweet\".\"id\"', ['greet', ['1005', '1006', '1007'], 'cat1', datetime.datetime(2024, 7, 6, 0, 7, 39, 771392), 3])\n",
      "('SELECT \"t1\".\"id\", \"t1\".\"username\" FROM \"user\" AS \"t1\" WHERE (\"t1\".\"username\" = %s) LIMIT %s OFFSET %s', ['huey', 1, 0])\n",
      "('SELECT \"t1\".\"id\", \"t1\".\"username\" FROM \"user\" AS \"t1\" WHERE (\"t1\".\"username\" = %s) LIMIT %s OFFSET %s', ['huey', 1, 0])\n",
      "('SELECT \"t1\".\"id\", \"t1\".\"content\", \"t1\".\"code\", \"t1\".\"cat\", \"t1\".\"timestamp\", \"t1\".\"user_id\" FROM \"tweet\" AS \"t1\" WHERE (\"t1\".\"content\" = %s) LIMIT %s OFFSET %s', ['whine', 1, 0])\n",
      "('SELECT \"t1\".\"id\", \"t1\".\"content\", \"t1\".\"code\", \"t1\".\"cat\", \"t1\".\"timestamp\", \"t1\".\"user_id\" FROM \"tweet\" AS \"t1\" WHERE (\"t1\".\"content\" = %s) LIMIT %s OFFSET %s', ['whine', 1, 0])\n",
      "('INSERT INTO \"favorite\" (\"user_id\", \"tweet_id\") VALUES (%s, %s) RETURNING \"favorite\".\"id\"', [1, 5])\n",
      "('INSERT INTO \"favorite\" (\"user_id\", \"tweet_id\") VALUES (%s, %s) RETURNING \"favorite\".\"id\"', [1, 5])\n",
      "('SELECT \"t1\".\"id\", \"t1\".\"username\" FROM \"user\" AS \"t1\" WHERE (\"t1\".\"username\" = %s) LIMIT %s OFFSET %s', ['mickey', 1, 0])\n",
      "('SELECT \"t1\".\"id\", \"t1\".\"username\" FROM \"user\" AS \"t1\" WHERE (\"t1\".\"username\" = %s) LIMIT %s OFFSET %s', ['mickey', 1, 0])\n",
      "('SELECT \"t1\".\"id\", \"t1\".\"content\", \"t1\".\"code\", \"t1\".\"cat\", \"t1\".\"timestamp\", \"t1\".\"user_id\" FROM \"tweet\" AS \"t1\" WHERE (\"t1\".\"content\" = %s) LIMIT %s OFFSET %s', ['purr', 1, 0])\n",
      "('SELECT \"t1\".\"id\", \"t1\".\"content\", \"t1\".\"code\", \"t1\".\"cat\", \"t1\".\"timestamp\", \"t1\".\"user_id\" FROM \"tweet\" AS \"t1\" WHERE (\"t1\".\"content\" = %s) LIMIT %s OFFSET %s', ['purr', 1, 0])\n",
      "('INSERT INTO \"favorite\" (\"user_id\", \"tweet_id\") VALUES (%s, %s) RETURNING \"favorite\".\"id\"', [2, 3])\n",
      "('INSERT INTO \"favorite\" (\"user_id\", \"tweet_id\") VALUES (%s, %s) RETURNING \"favorite\".\"id\"', [2, 3])\n",
      "('SELECT \"t1\".\"id\", \"t1\".\"username\" FROM \"user\" AS \"t1\" WHERE (\"t1\".\"username\" = %s) LIMIT %s OFFSET %s', ['zaizee', 1, 0])\n",
      "('SELECT \"t1\".\"id\", \"t1\".\"username\" FROM \"user\" AS \"t1\" WHERE (\"t1\".\"username\" = %s) LIMIT %s OFFSET %s', ['zaizee', 1, 0])\n",
      "('SELECT \"t1\".\"id\", \"t1\".\"content\", \"t1\".\"code\", \"t1\".\"cat\", \"t1\".\"timestamp\", \"t1\".\"user_id\" FROM \"tweet\" AS \"t1\" WHERE (\"t1\".\"content\" = %s) LIMIT %s OFFSET %s', ['meow', 1, 0])\n",
      "('SELECT \"t1\".\"id\", \"t1\".\"content\", \"t1\".\"code\", \"t1\".\"cat\", \"t1\".\"timestamp\", \"t1\".\"user_id\" FROM \"tweet\" AS \"t1\" WHERE (\"t1\".\"content\" = %s) LIMIT %s OFFSET %s', ['meow', 1, 0])\n",
      "('INSERT INTO \"favorite\" (\"user_id\", \"tweet_id\") VALUES (%s, %s) RETURNING \"favorite\".\"id\"', [3, 1])\n",
      "('INSERT INTO \"favorite\" (\"user_id\", \"tweet_id\") VALUES (%s, %s) RETURNING \"favorite\".\"id\"', [3, 1])\n",
      "('SELECT \"t1\".\"id\", \"t1\".\"content\", \"t1\".\"code\", \"t1\".\"cat\", \"t1\".\"timestamp\", \"t1\".\"user_id\" FROM \"tweet\" AS \"t1\" WHERE (\"t1\".\"content\" = %s) LIMIT %s OFFSET %s', ['purr', 1, 0])\n",
      "('SELECT \"t1\".\"id\", \"t1\".\"content\", \"t1\".\"code\", \"t1\".\"cat\", \"t1\".\"timestamp\", \"t1\".\"user_id\" FROM \"tweet\" AS \"t1\" WHERE (\"t1\".\"content\" = %s) LIMIT %s OFFSET %s', ['purr', 1, 0])\n",
      "('INSERT INTO \"favorite\" (\"user_id\", \"tweet_id\") VALUES (%s, %s) RETURNING \"favorite\".\"id\"', [3, 3])\n",
      "('INSERT INTO \"favorite\" (\"user_id\", \"tweet_id\") VALUES (%s, %s) RETURNING \"favorite\".\"id\"', [3, 3])\n"
     ]
    },
    {
     "name": "stdout",
     "output_type": "stream",
     "text": [
      "Tweet = meow, code = ('1001', '1002')\n",
      "Tweet = hiss, code = ('1001', '1002')\n",
      "Tweet = purr, code = ('1001', '1002')\n",
      "Tweet = woof, code = 1003\n",
      "Tweet = whine, code = 1003\n",
      "Tweet = hello, code = ('1005', '1006', '1007')\n",
      "Tweet = greet, code = ('1005', '1006', '1007')\n"
     ]
    }
   ],
   "source": [
    "populate_test_data()"
   ]
  },
  {
   "cell_type": "code",
   "execution_count": 82,
   "metadata": {},
   "outputs": [
    {
     "name": "stderr",
     "output_type": "stream",
     "text": [
      "('SELECT \"t1\".\"id\", \"t1\".\"content\", \"t1\".\"code\", \"t1\".\"cat\", \"t1\".\"timestamp\", \"t1\".\"user_id\" FROM \"tweet\" AS \"t1\"', [])\n",
      "('SELECT \"t1\".\"id\", \"t1\".\"content\", \"t1\".\"code\", \"t1\".\"cat\", \"t1\".\"timestamp\", \"t1\".\"user_id\" FROM \"tweet\" AS \"t1\"', [])\n"
     ]
    },
    {
     "data": {
      "text/plain": [
       "[{'id': 1,\n",
       "  'content': 'meow',\n",
       "  'code': ['1001', '1002'],\n",
       "  'cat': 'cat1',\n",
       "  'timestamp': datetime.datetime(2024, 7, 6, 0, 7, 39, 746334),\n",
       "  'user': 1},\n",
       " {'id': 2,\n",
       "  'content': 'hiss',\n",
       "  'code': ['1001', '1002'],\n",
       "  'cat': 'cat1',\n",
       "  'timestamp': datetime.datetime(2024, 7, 6, 0, 7, 39, 751369),\n",
       "  'user': 1},\n",
       " {'id': 3,\n",
       "  'content': 'purr',\n",
       "  'code': ['1001', '1002'],\n",
       "  'cat': 'cat1',\n",
       "  'timestamp': datetime.datetime(2024, 7, 6, 0, 7, 39, 753382),\n",
       "  'user': 1},\n",
       " {'id': 4,\n",
       "  'content': 'woof',\n",
       "  'code': ['1', '0', '0', '3'],\n",
       "  'cat': 'cat2',\n",
       "  'timestamp': datetime.datetime(2024, 7, 6, 0, 7, 39, 759383),\n",
       "  'user': 2},\n",
       " {'id': 5,\n",
       "  'content': 'whine',\n",
       "  'code': ['1', '0', '0', '3'],\n",
       "  'cat': 'cat2',\n",
       "  'timestamp': datetime.datetime(2024, 7, 6, 0, 7, 39, 764383),\n",
       "  'user': 2},\n",
       " {'id': 6,\n",
       "  'content': 'hello',\n",
       "  'code': ['1005', '1006', '1007'],\n",
       "  'cat': 'cat1',\n",
       "  'timestamp': datetime.datetime(2024, 7, 6, 0, 7, 39, 769382),\n",
       "  'user': 3},\n",
       " {'id': 7,\n",
       "  'content': 'greet',\n",
       "  'code': ['1005', '1006', '1007'],\n",
       "  'cat': 'cat1',\n",
       "  'timestamp': datetime.datetime(2024, 7, 6, 0, 7, 39, 771392),\n",
       "  'user': 3}]"
      ]
     },
     "execution_count": 82,
     "metadata": {},
     "output_type": "execute_result"
    }
   ],
   "source": [
    "[t for t in Tweet.select().dicts()]"
   ]
  },
  {
   "cell_type": "code",
   "execution_count": 81,
   "metadata": {},
   "outputs": [
    {
     "name": "stderr",
     "output_type": "stream",
     "text": [
      "('SELECT array_concat_agg(distinct code) as code FROM \"tweet\" AS \"t1\" GROUP BY \"t1\".\"cat\"', [])\n",
      "('SELECT array_concat_agg(distinct code) as code FROM \"tweet\" AS \"t1\" GROUP BY \"t1\".\"cat\"', [])\n"
     ]
    },
    {
     "data": {
      "text/plain": [
       "[{'code': ['1001', '1002', '1005', '1006', '1007']},\n",
       " {'code': ['1', '0', '0', '3']}]"
      ]
     },
     "execution_count": 81,
     "metadata": {},
     "output_type": "execute_result"
    }
   ],
   "source": [
    "[t for t in Tweet.select(SQL('array_concat_agg(distinct code) as code')).group_by(Tweet.cat).dicts()]"
   ]
  }
 ],
 "metadata": {
  "kernelspec": {
   "display_name": "demo-env",
   "language": "python",
   "name": "python3"
  },
  "language_info": {
   "codemirror_mode": {
    "name": "ipython",
    "version": 3
   },
   "file_extension": ".py",
   "mimetype": "text/x-python",
   "name": "python",
   "nbconvert_exporter": "python",
   "pygments_lexer": "ipython3",
   "version": "3.12.2"
  }
 },
 "nbformat": 4,
 "nbformat_minor": 2
}
